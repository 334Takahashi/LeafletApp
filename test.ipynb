{
 "cells": [
  {
   "cell_type": "code",
   "execution_count": 3,
   "metadata": {},
   "outputs": [
    {
     "name": "stdout",
     "output_type": "stream",
     "text": [
      "{'[35.1635255, 136.9400303]': 0, '[35.1636073, 136.9394786]': 0.05096947, '[35.1634227, 136.9394362]': 0.071854803, '[35.1640066, 136.9395699]': 0.09613872300000001, '[35.1629381, 136.9393217]': 0.126735943, '[35.164399, 136.9396591]': 0.14051861300000001, '[35.1637556, 136.938429]': 0.14779575, '[35.1635797, 136.9383886]': 0.16769641700000001, '[35.1647606, 136.9397392]': 0.18138073300000002, '[35.1634256, 136.9383532]': 0.18513120000000002, '[35.1643158, 136.9402128]': 0.19169428600000002, '[35.1641528, 136.9385202]': 0.19273375, '[35.1630828, 136.9382744]': 0.22328948299999998, '[35.1651538, 136.9398408]': 0.226067333, '[35.1645473, 136.9386028]': 0.237238057, '[35.1639101, 136.9373535]': 0.24705967, '[35.1627501, 136.9381986]': 0.260920283, '[35.1649102, 136.9386832]': 0.27824724700000003, '[35.163582, 136.9372752]': 0.284656085, '[35.1643126, 136.9374495]': 0.291671634, '[35.1632437, 136.9371944]': 0.323082239, '[35.1647013, 136.937521]': 0.33537900400000004, '[35.1650675, 136.9376184]': 0.377050086, '[35.1648808, 136.9363407]': 0.44451112400000004}\n"
     ]
    }
   ],
   "source": [
    "import math\n",
    "import networkx as nx\n",
    "import db, pathSearch\n",
    "points = [[35.16487131336672, 136.9374775886536], [35.16378437005421, 136.9397842884064], [35.16297791885458, 136.9374775886536]]\n",
    "y1, x1, y2, x2 = pathSearch.rectangleArea(points)\n",
    "link, length = db.getRectangleRoadData(y1, x1, y2, x2)\n",
    "G = pathSearch.linkToGraph(link, length)\n",
    "length = dict(nx.all_pairs_dijkstra_path_length(G))\n",
    "print(length['[35.1635255, 136.9400303]'])"
   ]
  },
  {
   "cell_type": "code",
   "execution_count": 4,
   "metadata": {},
   "outputs": [
    {
     "name": "stdout",
     "output_type": "stream",
     "text": [
      "[[35.1647013, 136.937521], [35.1643126, 136.9374495], [35.1641528, 136.9385202], [35.1640066, 136.9395699], [35.1640066, 136.9395699], [35.1641528, 136.9385202], [35.1637556, 136.938429], [35.1639101, 136.9373535], [35.163582, 136.9372752], [35.1632437, 136.9371944], [35.1629191, 136.9371148], [35.1629191, 136.9371148], [35.1632437, 136.9371944], [35.163582, 136.9372752], [35.1639101, 136.9373535], [35.1643126, 136.9374495], [35.1647013, 136.937521]]\n",
      "0.79436472\n",
      "35.16487131336672 136.9374775886536 35.16297791885458 136.9397842884064\n"
     ]
    }
   ],
   "source": [
    "p, le,_ = pathSearch.travelingPath(points, link, length)\n",
    "print(p)\n",
    "print(le)\n",
    "print(y1, x1, y2, x2)"
   ]
  },
  {
   "cell_type": "code",
   "execution_count": 2,
   "metadata": {},
   "outputs": [
    {
     "name": "stdout",
     "output_type": "stream",
     "text": [
      "['[35.1624723, 136.9403682]', '[35.1626084, 136.9392426]', '[35.1657816, 136.9399919]', '[35.1651538, 136.9398408]', '[35.1653085, 136.9387857]', '[35.1652278, 136.9393279]', '[35.1634444, 136.940595]', '[35.1635255, 136.9400303]', '[35.1636073, 136.9394786]', '[35.1645473, 136.9386028]', '[35.164399, 136.9396591]', '[35.1643158, 136.9402128]', '[35.1642346, 136.9407811]', '[35.1628586, 136.9398764]', '[35.1649102, 136.9386832]', '[35.1647606, 136.9397392]', '[35.1658611, 136.9394589]', '[35.1634194, 136.936091]', '[35.1632437, 136.9371944]', '[35.1630828, 136.9382744]', '[35.1629381, 136.9393217]', '[35.1627768, 136.9404377]', '[35.1641528, 136.9385202]', '[35.1637556, 136.938429]', '[35.1635797, 136.9383886]', '[35.1634256, 136.9383532]', '[35.1627501, 136.9381986]', '[35.1640066, 136.9395699]', '[35.1634227, 136.9394362]', '[35.1618272, 136.9390696]', '[35.1625422, 136.9370223]', '[35.1629191, 136.9371148]', '[35.163582, 136.9372752]', '[35.1639101, 136.9373535]', '[35.1643126, 136.9374495]', '[35.1650722, 136.9403874]', '[35.1623847, 136.9381154]', '[35.1640753, 136.9362031]', '[35.1647013, 136.937521]', '[35.1652462, 136.9364031]', '[35.1650675, 136.9376184]', '[35.1644881, 136.9362736]', '[35.1637579, 136.9361489]', '[35.165929, 136.9389428]', '[35.1653834, 136.9382408]', '[35.1621369, 136.9369356]', '[35.1627038, 136.9359794]', '[35.1654625, 136.9376998]', '[35.1648808, 136.9363407]']\n"
     ]
    }
   ],
   "source": [
    "G = pathSearch.linkToGraph(link, length)\n",
    "print(list(G.nodes))"
   ]
  },
  {
   "cell_type": "code",
   "execution_count": 3,
   "metadata": {},
   "outputs": [
    {
     "name": "stdout",
     "output_type": "stream",
     "text": [
      "[35.1647013, 136.937521]\n",
      "35.1647013, 136.937521\n"
     ]
    }
   ],
   "source": [
    "tsp = ['[35.1647013, 136.937521]', '[35.1640066, 136.9395699]', '[35.1629191, 136.9371148]', '[35.1647013, 136.937521]']\n",
    "p = tsp[0]\n",
    "rp = p.strip(\"[]\")\n",
    "print(p)\n",
    "print(rp)"
   ]
  },
  {
   "cell_type": "code",
   "execution_count": 2,
   "metadata": {},
   "outputs": [],
   "source": [
    "import csv\n",
    "import networkx as nx\n",
    "import db, pathSearch\n",
    "\n",
    "# データを用意\n",
    "points = [[35.16966936723668, 136.90265178680423], [35.15224248922456, 136.95080280303958]]\n",
    "y1, x1, y2, x2 = pathSearch.rectangleArea(points)\n",
    "link, length = db.getRectangleRoadData(y1, x1, y2, x2)\n",
    "G = pathSearch.linkToGraph(link, length)\n",
    "length = dict(nx.all_pairs_dijkstra_path_length(G))\n",
    "# CSVファイルにデータを書き込む\n",
    "with open('data.csv', 'w', newline='') as file:\n",
    "    writer = csv.writer(file, delimiter='\\t')  # タブを区切り文字として指定\n",
    "    for u in length.keys():\n",
    "        for v in length[u].keys():\n",
    "            data = [u, v, length[u][v]]\n",
    "            writer.writerow(data)\n"
   ]
  },
  {
   "cell_type": "code",
   "execution_count": 2,
   "metadata": {},
   "outputs": [
    {
     "name": "stdout",
     "output_type": "stream",
     "text": [
      "0.05096947\n"
     ]
    }
   ],
   "source": [
    "import csv\n",
    "\n",
    "dic = {}\n",
    "with open('data.csv', 'r', newline='') as file:\n",
    "    reader = csv.reader(file, delimiter='\\t')\n",
    "    l = [row for row in reader]\n",
    "    for elem in l:\n",
    "        if elem[0] in dic.keys():\n",
    "            dic[elem[0]][elem[1]] = elem[2]\n",
    "        else:\n",
    "            dic[elem[0]] = {elem[1] : elem[2]}\n",
    "            \n",
    "print(dic['[35.1635255, 136.9400303]']['[35.1636073, 136.9394786]'])"
   ]
  },
  {
   "cell_type": "code",
   "execution_count": 1,
   "metadata": {},
   "outputs": [
    {
     "name": "stdout",
     "output_type": "stream",
     "text": [
      "False\n"
     ]
    }
   ],
   "source": [
    "nodes = []\n",
    "def dist():\n",
    "    return\n",
    "def swap():\n",
    "    return\n",
    "\n",
    "while(True):\n",
    "    Flag = True\n",
    "    for p in nodes:\n",
    "        for q in nodes:\n",
    "            d1 = dist(p, q)\n",
    "            d2 = dist(p+1, q+1)\n",
    "            d3 = dist(p, p+1)\n",
    "            d4 = dist(q, q+1)\n",
    "            if d1+d2 < d3+d4:\n",
    "                swap(p, q)\n",
    "                Flag = False\n",
    "    if Flag:\n",
    "        break\n"
   ]
  },
  {
   "cell_type": "code",
   "execution_count": 39,
   "metadata": {},
   "outputs": [
    {
     "name": "stdout",
     "output_type": "stream",
     "text": [
      "12.903891148337491\n",
      "34.600611640900006\n",
      "12.6813294042125\n",
      "28.26231253823125\n",
      "1.72476458121445\n",
      "126.76598205337514\n",
      "16 16\n",
      "15.986185343750321 15.560754406249998\n",
      "TtestResult(statistic=2.2665087032973, pvalue=0.03864164135360939, df=15)\n",
      "TtestResult(statistic=13.583185623456872, pvalue=7.80986847888958e-10, df=15)\n"
     ]
    }
   ],
   "source": [
    "import pathSearch, db\n",
    "import random, time\n",
    "import numpy as np\n",
    "from scipy import stats\n",
    "\n",
    "N = 50\n",
    "moveDist = 1000\n",
    "ite = 20\n",
    "\n",
    "def generate_random_points_in_rectangle(rectangle, n):\n",
    "    x_min, y_min = min(rectangle[0][0], rectangle[1][0]), min(rectangle[0][1], rectangle[1][1])\n",
    "    x_max, y_max = max(rectangle[0][0], rectangle[1][0]), max(rectangle[0][1], rectangle[1][1])\n",
    "    random_points = [[random.uniform(x_min, x_max), random.uniform(y_min, y_max)] for _ in range(n)]\n",
    "    return random_points\n",
    "\n",
    "coordinates = [[35.18441016255083, 136.9190883636475], [35.15573127979675, 136.97341918945315]]\n",
    "\n",
    "sum_len_old = 0\n",
    "sum_len_walk_old = 0\n",
    "sum_len_new = 0\n",
    "sum_len_walk_new = 0\n",
    "sum_time_old = 0\n",
    "sum_time_new = 0\n",
    "count_old = 0\n",
    "count_new = 0\n",
    "t_test_old = []\n",
    "t_test_old_walk = []\n",
    "t_test_new = []\n",
    "t_test_new_walk = []\n",
    "for i in range(ite):\n",
    "    points = generate_random_points_in_rectangle(coordinates, N)\n",
    "    y1, x1, y2, x2 = pathSearch.rectangleArea(points)\n",
    "    try:\n",
    "        link, length = db.getRectangleRoadData(y1, x1, y2, x2, 1.25)\n",
    "\n",
    "        start = time.perf_counter()\n",
    "        _, len_old, _, _, _, len_walk_old = pathSearch.sharedRidePath(points, link, length, moveDist, \"type4\", len_dic)\n",
    "        end = time.perf_counter()\n",
    "        sum_time_old += end - start\n",
    "        sum_len_old += len_old\n",
    "        sum_len_walk_old += len_walk_old\n",
    "        count_old += 1\n",
    "        t_test_old.append(len_old)\n",
    "        t_test_old_walk.append(len_walk_old)\n",
    "\n",
    "        start = time.perf_counter()\n",
    "        _, len_new, _, _, _, len_walk_new = pathSearch.sharedRidePath(points, link, length, moveDist, \"type2\", len_dic)\n",
    "        end = time.perf_counter()\n",
    "        sum_time_new += end - start\n",
    "        sum_len_new += len_new\n",
    "        sum_len_walk_new += len_walk_new\n",
    "        count_new += 1\n",
    "        t_test_new.append(len_new)\n",
    "        t_test_new_walk.append(len_walk_new)\n",
    "\n",
    "    except:\n",
    "        continue\n",
    "ave_len_old = sum_len_old / count_old\n",
    "ave_len_walk_old = sum_len_walk_old / count_old\n",
    "ave_len_new = sum_len_new / count_new\n",
    "ave_len_walk_new = sum_len_walk_new / count_new\n",
    "ratio = (ave_len_old - ave_len_new) / ave_len_old\n",
    "person = (ave_len_walk_old - ave_len_walk_new) / N\n",
    "ave_time_old = sum_time_old / count_old\n",
    "ave_time_new = sum_time_new / count_new\n",
    "print(ave_len_old)\n",
    "print(ave_len_walk_old)\n",
    "print(ave_len_new)\n",
    "print(ave_len_walk_new)\n",
    "print(ratio*100)\n",
    "print(person*1000)\n",
    "print(count_old,count_new)\n",
    "print(ave_time_old, ave_time_new)\n",
    "\n",
    "if count_new == count_old:\n",
    "    print(stats.ttest_rel(t_test_old, t_test_new))\n",
    "    print(stats.ttest_rel(t_test_old_walk, t_test_new_walk))\n"
   ]
  },
  {
   "cell_type": "code",
   "execution_count": 1,
   "metadata": {},
   "outputs": [
    {
     "name": "stdout",
     "output_type": "stream",
     "text": [
      "---data loaded---\n"
     ]
    }
   ],
   "source": [
    "import networkx as nx\n",
    "import pathSearch, db\n",
    "points = [[35.201031449938064, 136.89788818359378], [35.14030839946502, 136.9981384277344]]\n",
    "y1, x1, y2, x2 = pathSearch.rectangleArea(points)\n",
    "link, length = db.getRectangleRoadData(y1, x1, y2, x2)\n",
    "G = pathSearch.linkToGraph(link, length)\n",
    "len_dic = dict(nx.all_pairs_dijkstra_path_length(G))\n",
    "print(\"---data loaded---\")"
   ]
  }
 ],
 "metadata": {
  "kernelspec": {
   "display_name": "jupyter",
   "language": "python",
   "name": "python3"
  },
  "language_info": {
   "codemirror_mode": {
    "name": "ipython",
    "version": 3
   },
   "file_extension": ".py",
   "mimetype": "text/x-python",
   "name": "python",
   "nbconvert_exporter": "python",
   "pygments_lexer": "ipython3",
   "version": "3.11.3"
  },
  "orig_nbformat": 4
 },
 "nbformat": 4,
 "nbformat_minor": 2
}
